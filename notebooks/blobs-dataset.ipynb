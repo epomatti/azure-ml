{
 "cells": [
  {
   "cell_type": "code",
   "execution_count": null,
   "metadata": {},
   "outputs": [],
   "source": [
    "import azureml.core\n",
    "from azureml.core import Workspace, Datastore, Dataset\n",
    "\n",
    "ws = Workspace.from_config()\n",
    "\n",
    "datastore = Datastore.get(ws, datastore_name='blobs')\n",
    "data_path=[(datastore,\"contacts.csv\")]\n",
    "Dataset.File.from_files(path=data_path)"
   ]
  }
 ],
 "metadata": {
  "language_info": {
   "name": "python"
  }
 },
 "nbformat": 4,
 "nbformat_minor": 2
}
