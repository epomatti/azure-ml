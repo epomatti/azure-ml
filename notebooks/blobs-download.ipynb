{
 "cells": [
  {
   "cell_type": "code",
   "execution_count": null,
   "metadata": {},
   "outputs": [],
   "source": [
    "import os\n",
    "import azureml.core\n",
    "from azureml.core import Workspace, Datastore, Dataset\n",
    "\n",
    "ws = Workspace.from_config()\n",
    "\n",
    "datastore = Datastore.get(ws, datastore_name='blobs')\n",
    "datastore.download(target_path=\"./output\", prefix=\"contacts.csv\", overwrite=False)\n",
    "\n",
    "arr = os.listdir('./output')\n",
    "print(arr)\n",
    "\n",
    "file = open(\"./output/contacts.csv\", \"r\").read()\n",
    "print(file)"
   ]
  }
 ],
 "metadata": {
  "language_info": {
   "name": "python"
  }
 },
 "nbformat": 4,
 "nbformat_minor": 2
}
