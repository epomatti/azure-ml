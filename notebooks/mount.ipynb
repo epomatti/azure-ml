{
 "cells": [
  {
   "cell_type": "code",
   "execution_count": null,
   "metadata": {},
   "outputs": [],
   "source": [
    "mount_path = \"/tmp/test\"\n",
    "mount_context = dataset.mount(mount_path)\n",
    "mount_context.start()"
   ]
  }
 ],
 "metadata": {
  "language_info": {
   "name": "python"
  }
 },
 "nbformat": 4,
 "nbformat_minor": 2
}
