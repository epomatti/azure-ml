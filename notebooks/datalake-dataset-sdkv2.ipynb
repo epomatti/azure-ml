{
 "cells": [
  {
   "cell_type": "code",
   "execution_count": null,
   "metadata": {},
   "outputs": [],
   "source": [
    "from azure.ai.ml.entities import Data\n",
    "from azure.ai.ml.constants import AssetTypes\n",
    "\n",
    "from azure.ai.ml import MLClient\n",
    "from azure.ai.ml.entities import Workspace\n",
    "from azure.identity import DefaultAzureCredential\n",
    "\n",
    "ws = MLClient.from_config(\n",
    "    DefaultAzureCredential()\n",
    ")\n",
    "\n",
    "# Supported paths include:\n",
    "# local: './<path>/<file>'\n",
    "# blob:  'https://<account_name>.blob.core.windows.net/<container_name>/<path>/<file>'\n",
    "# ADLS gen2: 'abfss://<file_system>@<account_name>.dfs.core.windows.net/<path>/<file>'\n",
    "# Datastore: 'azureml://datastores/<data_store_name>/paths/<path>/<file>'\n",
    "\n",
    "my_path = 'azureml://datastores/lake/paths/contacts.csv'\n",
    "\n",
    "my_data = Data(\n",
    "    path=my_path,\n",
    "    type=AssetTypes.URI_FOLDER,\n",
    "    description=\"Contacts CSV file\",\n",
    "    name=\"contacts\",\n",
    "    version='1.0.0',    \n",
    ")\n",
    "\n",
    "data = ws.data.create_or_update(my_data)\n",
    "# data = ws.data.get('contacts', version='1.0.0')\n",
    "\n",
    "import pandas as pd\n",
    "df = pd.read_csv(data.path)"
   ]
  }
 ],
 "metadata": {
  "language_info": {
   "name": "python"
  }
 },
 "nbformat": 4,
 "nbformat_minor": 2
}
