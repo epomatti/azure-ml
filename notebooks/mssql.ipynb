{
 "cells": [
  {
   "cell_type": "code",
   "execution_count": null,
   "metadata": {},
   "outputs": [],
   "source": [
    "import azureml.core\n",
    "from azureml.core import Workspace, Datastore, Dataset\n",
    "from azureml.data.datapath import DataPath\n",
    "from azureml.data import DataType\n",
    "import pandas as pd\n",
    "\n",
    "ws = Workspace.from_config()\n",
    "\n",
    "mssql_datastore = Datastore.get(ws, datastore_name=\"mssql\")\n",
    "query = DataPath(mssql_datastore, \"SELECT 1;\")\n",
    "\n",
    "expense_reports = Dataset.Tabular.from_sql_query(query).to_pandas_dataframe()"
   ]
  }
 ],
 "metadata": {
  "language_info": {
   "name": "python"
  }
 },
 "nbformat": 4,
 "nbformat_minor": 2
}
